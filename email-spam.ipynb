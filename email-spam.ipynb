{
  "cells": [
    {
      "cell_type": "markdown",
      "metadata": {
        "id": "tJ2RPKxk3Gm2"
      },
      "source": [
        "# **Spam detection using a neural network ML model**\n",
        "**Group 3:**"
      ]
    },
    {
      "cell_type": "markdown",
      "metadata": {
        "id": "IspqR-XT8maf"
      },
      "source": [
        "# Overview of the project\n",
        "\n",
        "The main goal of this project is to use TensorFlow and Keras to train a machine-learning model, more specifically a neural network, that can identify if an email is spam or not. Such a model could be then widely used to automatically recognise and filter out unsolicited or dangerous emails.\n",
        "\n",
        "The steps below explain how we will achieve this:\n",
        "\n",
        "1. **Data Loading and Preparation:**\n",
        "\n",
        "- Download the email spam classification dataset.\n",
        "- Preprocess the data by mapping labels to 'spam' and 'non-spam'.\n",
        "- Split the data into training, validation, and test sets (80%, 10%, 10%).\n",
        "- Check whether the training dataset is balanced in terms of the number of emails labeled as spam and emails labeled as non-spam.\n",
        "\n",
        "2. **Text Pre-processing:**\n",
        "\n",
        "- Standardization: Convert text to lowercase and remove punctuation.\n",
        "- Vectorization: Convert text into numerical representations using TextVectorization.\n",
        "\n",
        "3. **Model Building and Training:**\n",
        "\n",
        "- Create a sequential model with embedding, pooling, dense, and dropout layers.\n",
        "- Compile the model with a binary cross-entropy loss function, an Adam optimizer, and all the metrics that will be used to evaluate the model's performance.\n",
        "- Train the model on the training data and validate it using the validation set for 10 epochs to avoid overfitting.\n",
        "\n",
        "4. **Model Evaluation:**\n",
        "\n",
        "- Evaluate the trained model using the test dataset.\n",
        "- Calculate metrics such as accuracy, precision, recall, and F1-score to assess performance.\n",
        "- Check for overfitting by comparing training and test loss.\n",
        "\n",
        "5. **Visualization:**\n",
        "\n",
        "- Plot graphs to visualize training and validation loss and accuracy over the training epochs.\n",
        "\n",
        "\n",
        "Our model and the text pre-processing procedures were inspired from the TensorFlow tutorial for basic text classification [1]. Compared to our project, the TensorFlow project performed text classification on a dataset that classified movie reviews as positive and negative.\n",
        "\n",
        "Our other sources were mainly the lecture slides for the Introduction to Machine Learning for AI course."
      ]
    },
    {
      "cell_type": "markdown",
      "metadata": {
        "id": "2ux2EoNKAy1g"
      },
      "source": [
        "# Imports"
      ]
    },
    {
      "cell_type": "code",
      "execution_count": null,
      "metadata": {
        "id": "w3zTD1qVx4Vi"
      },
      "outputs": [],
      "source": [
        "# Make all the necessary imports\n",
        "import docutils\n",
        "\n",
        "import kagglehub\n",
        "import os\n",
        "import pandas as pd\n",
        "import matplotlib.pyplot as plt\n",
        "import tensorflow as tf\n",
        "import regex as re\n",
        "import string\n",
        "\n",
        "from tensorflow.keras import layers\n",
        "from tensorflow.keras import losses\n",
        "\n",
        "from sklearn.model_selection import train_test_split"
      ]
    },
    {
      "cell_type": "markdown",
      "metadata": {
        "id": "umFtozKBA2RV"
      },
      "source": [
        "# Dataset loading"
      ]
    },
    {
      "cell_type": "code",
      "execution_count": null,
      "metadata": {
        "colab": {
          "base_uri": "https://localhost:8080/"
        },
        "id": "HntJo20-4tVT",
        "outputId": "32063efc-db70-4671-8f00-368bc6fd16f7"
      },
      "outputs": [
        {
          "name": "stdout",
          "output_type": "stream",
          "text": [
            "Path to dataset files: /root/.cache/kagglehub/datasets/purusinghvi/email-spam-classification-dataset/versions/1\n"
          ]
        }
      ],
      "source": [
        "# Download latest version of the dataset\n",
        "path = kagglehub.dataset_download(\"purusinghvi/email-spam-classification-dataset\")"
      ]
    },
    {
      "cell_type": "code",
      "execution_count": null,
      "metadata": {
        "colab": {
          "base_uri": "https://localhost:8080/"
        },
        "id": "jf9AdJABx5mC",
        "outputId": "409ce1fd-2a5e-4465-87cc-0311d68393e3"
      },
      "outputs": [
        {
          "data": {
            "text/plain": [
              "[]"
            ]
          },
          "execution_count": 51,
          "metadata": {},
          "output_type": "execute_result"
        }
      ],
      "source": [
        "os.listdir(path)"
      ]
    },
    {
      "cell_type": "code",
      "execution_count": null,
      "metadata": {
        "id": "bOmYIcWzzFFZ"
      },
      "outputs": [],
      "source": [
        "# comment the first line with os.rename after the first execution\n",
        "os.rename(os.path.join(path, \"combined_data.csv\"), \"/content/combined_data.csv\")\n",
        "data = pd.read_csv(\"/content/combined_data.csv\", sep=\",\", header=0)"
      ]
    },
    {
      "cell_type": "markdown",
      "metadata": {
        "id": "RwDPMRYuVwQc"
      },
      "source": [
        "We decided to change the label \"0\" to \"non-spam\" and the label \"1\" to \"spam\" for a better understanding."
      ]
    },
    {
      "cell_type": "code",
      "execution_count": null,
      "metadata": {
        "id": "9tlIKegHVYF0"
      },
      "outputs": [],
      "source": [
        "data['label'] = data['label'].map({0: 'non-spam', 1: 'spam'})"
      ]
    },
    {
      "cell_type": "markdown",
      "metadata": {
        "id": "6G8MJMWGe7zi"
      },
      "source": [
        "Below is a quick visualization of 14 random samples of our data:"
      ]
    },
    {
      "cell_type": "code",
      "execution_count": null,
      "metadata": {
        "colab": {
          "base_uri": "https://localhost:8080/",
          "height": 457
        },
        "id": "B0KwcZAv2nvp",
        "outputId": "19d36880-3eec-490f-def7-25213896dbb3"
      },
      "outputs": [
        {
          "data": {
            "application/vnd.google.colaboratory.intrinsic+json": {
              "summary": "{\n  \"name\": \"data[1337:1350]\",\n  \"rows\": 13,\n  \"fields\": [\n    {\n      \"column\": \"label\",\n      \"properties\": {\n        \"dtype\": \"category\",\n        \"num_unique_values\": 2,\n        \"samples\": [\n          \"non-spam\",\n          \"spam\"\n        ],\n        \"semantic_type\": \"\",\n        \"description\": \"\"\n      }\n    },\n    {\n      \"column\": \"text\",\n      \"properties\": {\n        \"dtype\": \"string\",\n        \"num_unique_values\": 13,\n        \"samples\": [\n          \"please find below the gtv project status update for this week . please see the attached file for the project timeline update in microsoft project .\\ngtv status meeting attendees : dave nommensen , karima husain , francis lim , jeremy wong , bill fortney , nayan dattani , russ severson , narasim kasaru , mike swaim , chuck ames , geoff storey , jay krish .\\naccomplishments :\\n? incorporating physcial deal positions in tds :\\no changes to cpr reader process & its unit testing have been completed .\\no loading prior - day curves into position manager - in test .\\no changes for the view aggregation - in development ( please see the attached project timeline ) .\\n? single point of deal entry for term deals :\\no single point of deal entry is now in user testing .\\n? gas daily deals :\\no changes to portcalc application to create gdi calc in erms are complete and ready for testing .\\no it development items are in progress and on schedule ( please see the attached project timeline ) .\\n? live feeds for gas daily / intra - month curves :\\no development of live feeds has been completed , tested , user - approved and already in production .\\n? option grid ( phase 2 ) :\\no conversion from motif into powerbuilder has commenced .\\n? gas daily options :\\no changes to portcalc application have been completed and ready for testing .\\n? completed inception document and timeline for gtv phase 2\\nplans for the week ending 4 / 27 / 01 :\\n? continue it development of phase i items .\\n? complete sign - off for gtv - ii , phase 2 issues and timeline .\\n? continue it development of phase 2 issues .\\nissues / open items :\\n? implement \\\" group of groups \\\" for cash positions just as they are in position manager .\\n? verify with users if gdi calc in erms should be done via 1 or 2 portcalcs .\\nthanks , dave n\",\n          \"author vlendec date escapenumber escapenumber escapenumber escapenumber escapenumber escapenumber escapenumber sat escapenumber apr escapenumber new revision escapenumber websvn http websvn samba org cgi bin viewcvs cgi view rev root samba rev escapenumber log fix incompatible pointer type warnings simo please check and merge to escapenumber escapenumber escapenumber if appropriate volker modified branches samba escapenumber escapenumber source nsswitch idmap c changeset modified branches samba escapenumber escapenumber source nsswitch idmap c branches samba escapenumber escapenumber source nsswitch idmap c escapenumber escapenumber escapenumber escapenumber escapenumber escapenumber utc rev escapenumber branches samba escapenumber escapenumber source nsswitch idmap c escapenumber escapenumber escapenumber escapenumber escapenumber escapenumber utc rev escapenumber escapenumber escapenumber escapenumber escapenumber wbret winbind lookup sid ctx map sid domname name sid type winbind off else wbret winbindd lookup name by sid ctx map sid domname name sid type char tmp dom tmp name wbret winbindd lookup name by sid ctx map sid tmp dom tmp name sid type domname tmp dom name tmp name check if this is a valid sid and then map it \"\n        ],\n        \"semantic_type\": \"\",\n        \"description\": \"\"\n      }\n    }\n  ]\n}",
              "type": "dataframe"
            },
            "text/html": [
              "\n",
              "  <div id=\"df-a561d57c-1756-420e-a0ef-9c1ee123d4e4\" class=\"colab-df-container\">\n",
              "    <div>\n",
              "<style scoped>\n",
              "    .dataframe tbody tr th:only-of-type {\n",
              "        vertical-align: middle;\n",
              "    }\n",
              "\n",
              "    .dataframe tbody tr th {\n",
              "        vertical-align: top;\n",
              "    }\n",
              "\n",
              "    .dataframe thead th {\n",
              "        text-align: right;\n",
              "    }\n",
              "</style>\n",
              "<table border=\"1\" class=\"dataframe\">\n",
              "  <thead>\n",
              "    <tr style=\"text-align: right;\">\n",
              "      <th></th>\n",
              "      <th>label</th>\n",
              "      <th>text</th>\n",
              "    </tr>\n",
              "  </thead>\n",
              "  <tbody>\n",
              "    <tr>\n",
              "      <th>1337</th>\n",
              "      <td>spam</td>\n",
              "      <td>hey , come on - why not look at v i a g r a - ...</td>\n",
              "    </tr>\n",
              "    <tr>\n",
              "      <th>1338</th>\n",
              "      <td>spam</td>\n",
              "      <td>it needs to connect electrically so that it sy...</td>\n",
              "    </tr>\n",
              "    <tr>\n",
              "      <th>1339</th>\n",
              "      <td>non-spam</td>\n",
              "      <td>louise ,\\nplease let me know if you have any q...</td>\n",
              "    </tr>\n",
              "    <tr>\n",
              "      <th>1340</th>\n",
              "      <td>non-spam</td>\n",
              "      <td>on fri escapenumber apr escapenumber escapenum...</td>\n",
              "    </tr>\n",
              "    <tr>\n",
              "      <th>1341</th>\n",
              "      <td>non-spam</td>\n",
              "      <td>you are invited to participate in techsay com'...</td>\n",
              "    </tr>\n",
              "    <tr>\n",
              "      <th>1342</th>\n",
              "      <td>spam</td>\n",
              "      <td>are you bored in bed with your partner statist...</td>\n",
              "    </tr>\n",
              "    <tr>\n",
              "      <th>1343</th>\n",
              "      <td>spam</td>\n",
              "      <td>dear customer canadianpharmacy is one of very ...</td>\n",
              "    </tr>\n",
              "    <tr>\n",
              "      <th>1344</th>\n",
              "      <td>spam</td>\n",
              "      <td>- - - - 63054112933246002\\ncontent - type : te...</td>\n",
              "    </tr>\n",
              "    <tr>\n",
              "      <th>1345</th>\n",
              "      <td>spam</td>\n",
              "      <td>inflame your passion . . . tonight !\\nhttp : /...</td>\n",
              "    </tr>\n",
              "    <tr>\n",
              "      <th>1346</th>\n",
              "      <td>non-spam</td>\n",
              "      <td>author vlendec date escapenumber escapenumber ...</td>\n",
              "    </tr>\n",
              "    <tr>\n",
              "      <th>1347</th>\n",
              "      <td>spam</td>\n",
              "      <td>want to know how to save over 60 % on you seem...</td>\n",
              "    </tr>\n",
              "    <tr>\n",
              "      <th>1348</th>\n",
              "      <td>non-spam</td>\n",
              "      <td>please find below the gtv project status updat...</td>\n",
              "    </tr>\n",
              "    <tr>\n",
              "      <th>1349</th>\n",
              "      <td>non-spam</td>\n",
              "      <td>the list starts on row 106\\ntammie schoppe\\nen...</td>\n",
              "    </tr>\n",
              "  </tbody>\n",
              "</table>\n",
              "</div>\n",
              "    <div class=\"colab-df-buttons\">\n",
              "\n",
              "  <div class=\"colab-df-container\">\n",
              "    <button class=\"colab-df-convert\" onclick=\"convertToInteractive('df-a561d57c-1756-420e-a0ef-9c1ee123d4e4')\"\n",
              "            title=\"Convert this dataframe to an interactive table.\"\n",
              "            style=\"display:none;\">\n",
              "\n",
              "  <svg xmlns=\"http://www.w3.org/2000/svg\" height=\"24px\" viewBox=\"0 -960 960 960\">\n",
              "    <path d=\"M120-120v-720h720v720H120Zm60-500h600v-160H180v160Zm220 220h160v-160H400v160Zm0 220h160v-160H400v160ZM180-400h160v-160H180v160Zm440 0h160v-160H620v160ZM180-180h160v-160H180v160Zm440 0h160v-160H620v160Z\"/>\n",
              "  </svg>\n",
              "    </button>\n",
              "\n",
              "  <style>\n",
              "    .colab-df-container {\n",
              "      display:flex;\n",
              "      gap: 12px;\n",
              "    }\n",
              "\n",
              "    .colab-df-convert {\n",
              "      background-color: #E8F0FE;\n",
              "      border: none;\n",
              "      border-radius: 50%;\n",
              "      cursor: pointer;\n",
              "      display: none;\n",
              "      fill: #1967D2;\n",
              "      height: 32px;\n",
              "      padding: 0 0 0 0;\n",
              "      width: 32px;\n",
              "    }\n",
              "\n",
              "    .colab-df-convert:hover {\n",
              "      background-color: #E2EBFA;\n",
              "      box-shadow: 0px 1px 2px rgba(60, 64, 67, 0.3), 0px 1px 3px 1px rgba(60, 64, 67, 0.15);\n",
              "      fill: #174EA6;\n",
              "    }\n",
              "\n",
              "    .colab-df-buttons div {\n",
              "      margin-bottom: 4px;\n",
              "    }\n",
              "\n",
              "    [theme=dark] .colab-df-convert {\n",
              "      background-color: #3B4455;\n",
              "      fill: #D2E3FC;\n",
              "    }\n",
              "\n",
              "    [theme=dark] .colab-df-convert:hover {\n",
              "      background-color: #434B5C;\n",
              "      box-shadow: 0px 1px 3px 1px rgba(0, 0, 0, 0.15);\n",
              "      filter: drop-shadow(0px 1px 2px rgba(0, 0, 0, 0.3));\n",
              "      fill: #FFFFFF;\n",
              "    }\n",
              "  </style>\n",
              "\n",
              "    <script>\n",
              "      const buttonEl =\n",
              "        document.querySelector('#df-a561d57c-1756-420e-a0ef-9c1ee123d4e4 button.colab-df-convert');\n",
              "      buttonEl.style.display =\n",
              "        google.colab.kernel.accessAllowed ? 'block' : 'none';\n",
              "\n",
              "      async function convertToInteractive(key) {\n",
              "        const element = document.querySelector('#df-a561d57c-1756-420e-a0ef-9c1ee123d4e4');\n",
              "        const dataTable =\n",
              "          await google.colab.kernel.invokeFunction('convertToInteractive',\n",
              "                                                    [key], {});\n",
              "        if (!dataTable) return;\n",
              "\n",
              "        const docLinkHtml = 'Like what you see? Visit the ' +\n",
              "          '<a target=\"_blank\" href=https://colab.research.google.com/notebooks/data_table.ipynb>data table notebook</a>'\n",
              "          + ' to learn more about interactive tables.';\n",
              "        element.innerHTML = '';\n",
              "        dataTable['output_type'] = 'display_data';\n",
              "        await google.colab.output.renderOutput(dataTable, element);\n",
              "        const docLink = document.createElement('div');\n",
              "        docLink.innerHTML = docLinkHtml;\n",
              "        element.appendChild(docLink);\n",
              "      }\n",
              "    </script>\n",
              "  </div>\n",
              "\n",
              "\n",
              "<div id=\"df-54ed3c86-595f-4687-ba4a-ae437efdfe41\">\n",
              "  <button class=\"colab-df-quickchart\" onclick=\"quickchart('df-54ed3c86-595f-4687-ba4a-ae437efdfe41')\"\n",
              "            title=\"Suggest charts\"\n",
              "            style=\"display:none;\">\n",
              "\n",
              "<svg xmlns=\"http://www.w3.org/2000/svg\" height=\"24px\"viewBox=\"0 0 24 24\"\n",
              "     width=\"24px\">\n",
              "    <g>\n",
              "        <path d=\"M19 3H5c-1.1 0-2 .9-2 2v14c0 1.1.9 2 2 2h14c1.1 0 2-.9 2-2V5c0-1.1-.9-2-2-2zM9 17H7v-7h2v7zm4 0h-2V7h2v10zm4 0h-2v-4h2v4z\"/>\n",
              "    </g>\n",
              "</svg>\n",
              "  </button>\n",
              "\n",
              "<style>\n",
              "  .colab-df-quickchart {\n",
              "      --bg-color: #E8F0FE;\n",
              "      --fill-color: #1967D2;\n",
              "      --hover-bg-color: #E2EBFA;\n",
              "      --hover-fill-color: #174EA6;\n",
              "      --disabled-fill-color: #AAA;\n",
              "      --disabled-bg-color: #DDD;\n",
              "  }\n",
              "\n",
              "  [theme=dark] .colab-df-quickchart {\n",
              "      --bg-color: #3B4455;\n",
              "      --fill-color: #D2E3FC;\n",
              "      --hover-bg-color: #434B5C;\n",
              "      --hover-fill-color: #FFFFFF;\n",
              "      --disabled-bg-color: #3B4455;\n",
              "      --disabled-fill-color: #666;\n",
              "  }\n",
              "\n",
              "  .colab-df-quickchart {\n",
              "    background-color: var(--bg-color);\n",
              "    border: none;\n",
              "    border-radius: 50%;\n",
              "    cursor: pointer;\n",
              "    display: none;\n",
              "    fill: var(--fill-color);\n",
              "    height: 32px;\n",
              "    padding: 0;\n",
              "    width: 32px;\n",
              "  }\n",
              "\n",
              "  .colab-df-quickchart:hover {\n",
              "    background-color: var(--hover-bg-color);\n",
              "    box-shadow: 0 1px 2px rgba(60, 64, 67, 0.3), 0 1px 3px 1px rgba(60, 64, 67, 0.15);\n",
              "    fill: var(--button-hover-fill-color);\n",
              "  }\n",
              "\n",
              "  .colab-df-quickchart-complete:disabled,\n",
              "  .colab-df-quickchart-complete:disabled:hover {\n",
              "    background-color: var(--disabled-bg-color);\n",
              "    fill: var(--disabled-fill-color);\n",
              "    box-shadow: none;\n",
              "  }\n",
              "\n",
              "  .colab-df-spinner {\n",
              "    border: 2px solid var(--fill-color);\n",
              "    border-color: transparent;\n",
              "    border-bottom-color: var(--fill-color);\n",
              "    animation:\n",
              "      spin 1s steps(1) infinite;\n",
              "  }\n",
              "\n",
              "  @keyframes spin {\n",
              "    0% {\n",
              "      border-color: transparent;\n",
              "      border-bottom-color: var(--fill-color);\n",
              "      border-left-color: var(--fill-color);\n",
              "    }\n",
              "    20% {\n",
              "      border-color: transparent;\n",
              "      border-left-color: var(--fill-color);\n",
              "      border-top-color: var(--fill-color);\n",
              "    }\n",
              "    30% {\n",
              "      border-color: transparent;\n",
              "      border-left-color: var(--fill-color);\n",
              "      border-top-color: var(--fill-color);\n",
              "      border-right-color: var(--fill-color);\n",
              "    }\n",
              "    40% {\n",
              "      border-color: transparent;\n",
              "      border-right-color: var(--fill-color);\n",
              "      border-top-color: var(--fill-color);\n",
              "    }\n",
              "    60% {\n",
              "      border-color: transparent;\n",
              "      border-right-color: var(--fill-color);\n",
              "    }\n",
              "    80% {\n",
              "      border-color: transparent;\n",
              "      border-right-color: var(--fill-color);\n",
              "      border-bottom-color: var(--fill-color);\n",
              "    }\n",
              "    90% {\n",
              "      border-color: transparent;\n",
              "      border-bottom-color: var(--fill-color);\n",
              "    }\n",
              "  }\n",
              "</style>\n",
              "\n",
              "  <script>\n",
              "    async function quickchart(key) {\n",
              "      const quickchartButtonEl =\n",
              "        document.querySelector('#' + key + ' button');\n",
              "      quickchartButtonEl.disabled = true;  // To prevent multiple clicks.\n",
              "      quickchartButtonEl.classList.add('colab-df-spinner');\n",
              "      try {\n",
              "        const charts = await google.colab.kernel.invokeFunction(\n",
              "            'suggestCharts', [key], {});\n",
              "      } catch (error) {\n",
              "        console.error('Error during call to suggestCharts:', error);\n",
              "      }\n",
              "      quickchartButtonEl.classList.remove('colab-df-spinner');\n",
              "      quickchartButtonEl.classList.add('colab-df-quickchart-complete');\n",
              "    }\n",
              "    (() => {\n",
              "      let quickchartButtonEl =\n",
              "        document.querySelector('#df-54ed3c86-595f-4687-ba4a-ae437efdfe41 button');\n",
              "      quickchartButtonEl.style.display =\n",
              "        google.colab.kernel.accessAllowed ? 'block' : 'none';\n",
              "    })();\n",
              "  </script>\n",
              "</div>\n",
              "\n",
              "    </div>\n",
              "  </div>\n"
            ],
            "text/plain": [
              "         label                                               text\n",
              "1337      spam  hey , come on - why not look at v i a g r a - ...\n",
              "1338      spam  it needs to connect electrically so that it sy...\n",
              "1339  non-spam  louise ,\\nplease let me know if you have any q...\n",
              "1340  non-spam  on fri escapenumber apr escapenumber escapenum...\n",
              "1341  non-spam  you are invited to participate in techsay com'...\n",
              "1342      spam  are you bored in bed with your partner statist...\n",
              "1343      spam  dear customer canadianpharmacy is one of very ...\n",
              "1344      spam  - - - - 63054112933246002\\ncontent - type : te...\n",
              "1345      spam  inflame your passion . . . tonight !\\nhttp : /...\n",
              "1346  non-spam  author vlendec date escapenumber escapenumber ...\n",
              "1347      spam  want to know how to save over 60 % on you seem...\n",
              "1348  non-spam  please find below the gtv project status updat...\n",
              "1349  non-spam  the list starts on row 106\\ntammie schoppe\\nen..."
            ]
          },
          "execution_count": 54,
          "metadata": {},
          "output_type": "execute_result"
        }
      ],
      "source": [
        "data[1337:1350]"
      ]
    },
    {
      "cell_type": "markdown",
      "metadata": {
        "id": "YZOw2ZrDA5yU"
      },
      "source": [
        "# Train/val/test split"
      ]
    },
    {
      "cell_type": "markdown",
      "metadata": {
        "id": "js_xjlQPLbTS"
      },
      "source": [
        "The original dataset was split into:\n",
        "\n",
        "*   a training dataset: 80% of the original dataset\n",
        "*   a validation dataset: 10% of the original dataset (50% of the remaining dataset after extracting the training dataset)\n",
        "*   a test dataset: 10% of the original dataset (50% of the remaining dataset after extracting the training dataset)\n",
        "\n",
        "The train_test_split method from the sklear.module_selection module was used [2]."
      ]
    },
    {
      "cell_type": "code",
      "execution_count": null,
      "metadata": {
        "id": "1Zicqjx5M0Gl"
      },
      "outputs": [],
      "source": [
        "texts = data['text']\n",
        "labels = data['label']\n",
        "\n",
        "# Split the data\n",
        "X_train, X_temp, y_train, y_temp = train_test_split(\n",
        "    texts, labels, test_size=0.2, random_state=42, stratify=labels)\n",
        "\n",
        "X_val, X_test, y_val, y_test = train_test_split(\n",
        "    X_temp, y_temp, test_size=0.5, random_state=42, stratify=y_temp)"
      ]
    },
    {
      "cell_type": "markdown",
      "metadata": {
        "id": "nqjpXg22oI9l"
      },
      "source": [
        "To ensure that the model will not be biased towards one class as a result of the training process, we need to check that the \"spam\" and \"non-spam\" classes are approximately balanced **in the training dataset**."
      ]
    },
    {
      "cell_type": "code",
      "execution_count": null,
      "metadata": {
        "colab": {
          "base_uri": "https://localhost:8080/"
        },
        "id": "IMIuqUvooIsK",
        "outputId": "0b8cecc0-1dcf-4ecc-ea4b-643cb629efe4"
      },
      "outputs": [
        {
          "name": "stdout",
          "output_type": "stream",
          "text": [
            "Total samples: 66758\n",
            "Spam samples: 35128 (52.62%)\n",
            "Non-spam samples: 31630 (47.38%)\n"
          ]
        }
      ],
      "source": [
        "total_samples = 0\n",
        "spam_count = 0\n",
        "non_spam_count = 0\n",
        "\n",
        "# Iterate through the output labels in the training dataset to count them\n",
        "for label in y_train:\n",
        "    total_samples += 1\n",
        "    if label == \"spam\":\n",
        "        spam_count += 1\n",
        "    elif label == \"non-spam\":\n",
        "        non_spam_count += 1\n",
        "\n",
        "# Calculate percentages\n",
        "spam_percentage = (spam_count / total_samples) * 100 if total_samples > 0 else 0\n",
        "non_spam_percentage = (non_spam_count / total_samples) * 100 if total_samples > 0 else 0\n",
        "\n",
        "# Print the results\n",
        "print(f\"Total samples: {total_samples}\")\n",
        "print(f\"Spam samples: {spam_count} ({spam_percentage:.2f}%)\")\n",
        "print(f\"Non-spam samples: {non_spam_count} ({non_spam_percentage:.2f}%)\")"
      ]
    },
    {
      "cell_type": "markdown",
      "metadata": {
        "id": "BAyeFUrRtGSt"
      },
      "source": [
        "The percentages show that the classes are approximately balanced, with the spam class being slightly more frequent than the non-spam class."
      ]
    },
    {
      "cell_type": "markdown",
      "metadata": {
        "id": "f9Y65wZLM2qZ"
      },
      "source": [
        "After splitting the dataset, each of the 3 resulting datasets were put into corresponding text files, which were all contained by the directory \"text_data\"."
      ]
    },
    {
      "cell_type": "code",
      "execution_count": null,
      "metadata": {
        "colab": {
          "base_uri": "https://localhost:8080/",
          "height": 88
        },
        "id": "UYXHmZep5rpO",
        "outputId": "b9504c02-38df-4ff7-e0e0-964f7b250114"
      },
      "outputs": [
        {
          "data": {
            "application/vnd.google.colaboratory.intrinsic+json": {
              "type": "string"
            },
            "text/plain": [
              "'\\ndatasets = {\\'train\\': (X_train, y_train), \\'val\\': (X_val, y_val), \\'test\\': (X_test, y_test)}\\nbase_dir = \"text_data\"\\n\\nfor dataset, (texts, labels) in datasets.items():\\n    for text, label in zip(texts, labels):\\n        class_dir = os.path.join(base_dir, dataset, str(label))\\n        os.makedirs(class_dir, exist_ok=True)\\n        # Save each text sample as a file\\n        file_path = os.path.join(class_dir, f\"{hash(text)}.txt\")\\n        with open(file_path, \"w\", encoding=\"utf-8\") as f:\\n            f.write(text)\\n\\nprint(\"Data prepared in directory:\", base_dir)\\n#'"
            ]
          },
          "execution_count": 57,
          "metadata": {},
          "output_type": "execute_result"
        }
      ],
      "source": [
        "# Create directories for each dataset\n",
        "# Comment after first execution to prevent\n",
        "# the data being added to the directory again\n",
        "\n",
        "datasets = {'train': (X_train, y_train), 'val': (X_val, y_val), 'test': (X_test, y_test)}\n",
        "base_dir = \"text_data\"\n",
        "\n",
        "for dataset, (texts, labels) in datasets.items():\n",
        "    for text, label in zip(texts, labels):\n",
        "        class_dir = os.path.join(base_dir, dataset, str(label))\n",
        "        os.makedirs(class_dir, exist_ok=True)\n",
        "        # Save each text sample as a file\n",
        "        file_path = os.path.join(class_dir, f\"{hash(text)}.txt\")\n",
        "        with open(file_path, \"w\", encoding=\"utf-8\") as f:\n",
        "            f.write(text)\n",
        "\n",
        "print(\"Data prepared in directory:\", base_dir)\n"
      ]
    },
    {
      "cell_type": "markdown",
      "metadata": {
        "id": "qf2VZap-NJRt"
      },
      "source": [
        "Next, the text files containing each dataset need to be fed to the *tf.keras.utils.text_dataset_from_directory* method [3] to convert them into a raw format on which the standardization, vectorization, and tokenization methods can be applied. We chose the value 96 as the batch size for the datasets, and not 32 as it was set in the TensorFlow tutorial, because our dataset contained more samples."
      ]
    },
    {
      "cell_type": "code",
      "execution_count": null,
      "metadata": {
        "colab": {
          "base_uri": "https://localhost:8080/"
        },
        "id": "IqAwMO5s7k4a",
        "outputId": "cc03e98a-e0f7-4ecb-c419-36317415faae"
      },
      "outputs": [
        {
          "name": "stdout",
          "output_type": "stream",
          "text": [
            "Found 66758 files belonging to 2 classes.\n",
            "Found 8345 files belonging to 2 classes.\n",
            "Found 8345 files belonging to 2 classes.\n"
          ]
        }
      ],
      "source": [
        "batch_size = 96\n",
        "seed = 42\n",
        "\n",
        "# Load training dataset\n",
        "raw_train_ds = tf.keras.utils.text_dataset_from_directory(\n",
        "    \"text_data/train\",\n",
        "    batch_size=batch_size,\n",
        "    seed=seed\n",
        ")\n",
        "\n",
        "# Load validation dataset\n",
        "raw_val_ds = tf.keras.utils.text_dataset_from_directory(\n",
        "    \"text_data/val\",\n",
        "    batch_size=batch_size,\n",
        "    seed=seed\n",
        ")\n",
        "\n",
        "# Load test dataset\n",
        "raw_test_ds = tf.keras.utils.text_dataset_from_directory(\n",
        "    \"text_data/test\",\n",
        "    batch_size=batch_size\n",
        ")\n"
      ]
    },
    {
      "cell_type": "markdown",
      "metadata": {
        "id": "fo3ayRn9At28"
      },
      "source": [
        "# Text pre-processing"
      ]
    },
    {
      "cell_type": "markdown",
      "metadata": {
        "id": "Tz6ADficQA2T"
      },
      "source": [
        "The next step is the pre-processing of the text."
      ]
    },
    {
      "cell_type": "markdown",
      "metadata": {
        "id": "-L83VlJQQIvh"
      },
      "source": [
        "1) Standardization\n",
        "\n",
        "For this step, a custom function was defined similarly to how it is defined in the TensorFlow tutorial, which transforms all letters to lowercase and replaces all non-alphabetic characters with a space. The use of the *strings.lower* and *strings.regex_replace* methods from the *tensorflow* library as well as the *escape* method from the *regex* library were used in this process."
      ]
    },
    {
      "cell_type": "code",
      "execution_count": null,
      "metadata": {
        "id": "dTgWQA6YJhCM"
      },
      "outputs": [],
      "source": [
        "def standardization(input_data):\n",
        "    # Convert the input text to lowercase\n",
        "    lowercase_text = tf.strings.lower(input_data)\n",
        "\n",
        "    # Replace HTML line breaks ('<br />') with a space\n",
        "    fixed_html = tf.strings.regex_replace(lowercase_text, '<br />', ' ')\n",
        "\n",
        "    # Remove all punctuation characters by replacing them with an empty string\n",
        "    # `string.punctuation` contains common punctuation symbols\n",
        "    # `re.escape` ensures that special characters are treated as literals\n",
        "    return tf.strings.regex_replace(fixed_html,\n",
        "                                    '[%s]' % re.escape(string.punctuation),\n",
        "                                    '')"
      ]
    },
    {
      "cell_type": "markdown",
      "metadata": {
        "id": "y6kwy7F1O4_r"
      },
      "source": [
        "2) Vectorization\n",
        "\n",
        "Next, we initalize a TextVectorization layer using the *layers.TextVectorization* class from *tensorflow*  [4], which maps text features to integer sequences. The specified arguments for this class instance are the following:\n",
        "\n",
        "\n",
        "*   *standardize* : the custom function used to standardize the text\n",
        "*   *max_tokens* : the maximum number of features in the text, set to 10000\n",
        "*   *output_mode* : the type of the output, which should be an integer as each word has to be replaced by a number.\n",
        "*   *output_sequence_lenght*: the dimension of the output, set to 250\n",
        "\n",
        "\n",
        "\n",
        "\n",
        "\n"
      ]
    },
    {
      "cell_type": "markdown",
      "metadata": {
        "id": "iC7SYXCP_B-k"
      },
      "source": [
        "Afterward, The *adapt* method of the *layers.TextVectorization* class was called on the text from the training dataset to vectorize the text."
      ]
    },
    {
      "cell_type": "code",
      "execution_count": null,
      "metadata": {
        "colab": {
          "base_uri": "https://localhost:8080/",
          "height": 211
        },
        "id": "b12LLPBBJl16",
        "outputId": "e20663d3-796c-47e5-8ffd-5311db8e7c33"
      },
      "outputs": [
        {
          "ename": "NameError",
          "evalue": "name 'raw_train_ds' is not defined",
          "output_type": "error",
          "traceback": [
            "\u001b[0;31m---------------------------------------------------------------------------\u001b[0m",
            "\u001b[0;31mNameError\u001b[0m                                 Traceback (most recent call last)",
            "\u001b[0;32m<ipython-input-3-a42dfeefd3ef>\u001b[0m in \u001b[0;36m<cell line: 0>\u001b[0;34m()\u001b[0m\n\u001b[1;32m      3\u001b[0m \u001b[0;34m\u001b[0m\u001b[0m\n\u001b[1;32m      4\u001b[0m \u001b[0;31m# Prepare the text-only dataset for adaptation\u001b[0m\u001b[0;34m\u001b[0m\u001b[0;34m\u001b[0m\u001b[0m\n\u001b[0;32m----> 5\u001b[0;31m \u001b[0mtrain_text\u001b[0m \u001b[0;34m=\u001b[0m \u001b[0mraw_train_ds\u001b[0m\u001b[0;34m.\u001b[0m\u001b[0mmap\u001b[0m\u001b[0;34m(\u001b[0m\u001b[0;32mlambda\u001b[0m \u001b[0mx\u001b[0m\u001b[0;34m,\u001b[0m \u001b[0my\u001b[0m\u001b[0;34m:\u001b[0m \u001b[0mx\u001b[0m\u001b[0;34m)\u001b[0m  \u001b[0;31m# Extract only the text input\u001b[0m\u001b[0;34m\u001b[0m\u001b[0;34m\u001b[0m\u001b[0m\n\u001b[0m\u001b[1;32m      6\u001b[0m \u001b[0;34m\u001b[0m\u001b[0m\n\u001b[1;32m      7\u001b[0m \u001b[0;31m# Apply the TextVectorization layer\u001b[0m\u001b[0;34m\u001b[0m\u001b[0;34m\u001b[0m\u001b[0m\n",
            "\u001b[0;31mNameError\u001b[0m: name 'raw_train_ds' is not defined"
          ]
        }
      ],
      "source": [
        "max_features = 10000\n",
        "sequence_length = 250\n",
        "\n",
        "# Prepare the text-only dataset for adaptation\n",
        "train_text = raw_train_ds.map(lambda x, y: x)  # Extract only the text input\n",
        "\n",
        "# Apply the TextVectorization layer\n",
        "vectorize_layer = layers.TextVectorization(\n",
        "    standardize=standardization,\n",
        "    max_tokens=max_features,\n",
        "    output_mode='int',\n",
        "    output_sequence_length=sequence_length\n",
        ")\n",
        "\n",
        "# Adapt the vectorization layer\n",
        "vectorize_layer.adapt(train_text)\n"
      ]
    },
    {
      "cell_type": "markdown",
      "metadata": {
        "id": "wZ5isaPe_ioM"
      },
      "source": [
        "A *vectorize_text* method was defined to visualize how the vectorized text looks like. The *expand_dims* method from tensorflow [5] was applied to the example text to match the number of dimensions required by the *vectorize_layer* class instance."
      ]
    },
    {
      "cell_type": "code",
      "execution_count": null,
      "metadata": {
        "id": "qPANHrL3Jml4"
      },
      "outputs": [],
      "source": [
        "def vectorize_text(text, label):\n",
        "  text = tf.expand_dims(text, -1)\n",
        "  return vectorize_layer(text), label\n",
        "\n",
        "# Retrieve a batch of 96 reviews and labels from the dataset\n",
        "# and print one of them in its vectorized form\n",
        "text_batch, label_batch = next(iter(raw_train_ds))\n",
        "first_review, first_label = text_batch[0], label_batch[0]\n",
        "print(\"Review\", first_review)\n",
        "print(\"Label\", raw_train_ds.class_names[first_label])\n",
        "print(\"Vectorized review\", vectorize_text(first_review, first_label))"
      ]
    },
    {
      "cell_type": "markdown",
      "metadata": {
        "id": "_dmgWp22R3OV"
      },
      "source": [
        "The word on each index in the vectorized text can be seen by calling the *get_vocabulary* method of the *layers.TextVectorization* class."
      ]
    },
    {
      "cell_type": "code",
      "execution_count": null,
      "metadata": {
        "id": "lPOLTrBOJqmL"
      },
      "outputs": [],
      "source": [
        "print(\"1000 ---> \",vectorize_layer.get_vocabulary()[1000])\n",
        "print(\" 3 ---> \",vectorize_layer.get_vocabulary()[3])\n",
        "print('Vocabulary size: {}'.format(len(vectorize_layer.get_vocabulary())))"
      ]
    },
    {
      "cell_type": "markdown",
      "metadata": {
        "id": "REXK1TQwSNgc"
      },
      "source": [
        "Finally, we can apply the vectorization function to the text in each dataset:"
      ]
    },
    {
      "cell_type": "code",
      "execution_count": null,
      "metadata": {
        "id": "HN5FoR25JrJT"
      },
      "outputs": [],
      "source": [
        "train_ds = raw_train_ds.map(vectorize_text)\n",
        "val_ds = raw_val_ds.map(vectorize_text)\n",
        "test_ds = raw_test_ds.map(vectorize_text)"
      ]
    },
    {
      "cell_type": "markdown",
      "metadata": {
        "id": "sZ5287PzUC6J"
      },
      "source": [
        "This is an optional step, which ensures a good CPU performance when work is done on large datasets."
      ]
    },
    {
      "cell_type": "code",
      "execution_count": null,
      "metadata": {
        "id": "HSMQ_Ra3JumA"
      },
      "outputs": [],
      "source": [
        "AUTOTUNE = tf.data.AUTOTUNE\n",
        "\n",
        "train_ds = train_ds.cache().prefetch(buffer_size=AUTOTUNE)\n",
        "val_ds = val_ds.cache().prefetch(buffer_size=AUTOTUNE)\n",
        "test_ds = test_ds.cache().prefetch(buffer_size=AUTOTUNE)"
      ]
    },
    {
      "cell_type": "markdown",
      "metadata": {
        "id": "1SosY2alApCS"
      },
      "source": [
        "# Model initialization"
      ]
    },
    {
      "cell_type": "markdown",
      "metadata": {
        "id": "2bEeGLlq1wyf"
      },
      "source": [
        "Initializing the model:\n",
        "    The model is the *tf.keras.sequential* neural network, which is a classifier, composed of three main layers:\n",
        "*   embedding layer - Converts input words (represented as integers) into dense vector representations of fixed size (*embedding_dim*). *max_features* defines the vocabulary size.\n",
        "*   GlobalAveragePooling1D - computes the average of the embeddings across all words in the sequence and converts variable-length sequences into a fixed-length vector representation.\n",
        "*   dense layer - represents a fully connected layer with a single output neuron. It uses a sigmoid activation function to produce a probability between 0 and 1.\n",
        "*   the dropout layers - sets the output of 0.2 of the neurons in these layers to 0, which ensures that there is no co-adaptation between neurons.\n",
        "\n",
        "The source code for the model class, alongside all its methods and attributes, can be found on the TensorFlow website [6]. Additionally, the details about each of the layers described above can be found on the TensorFlow website [7].\n",
        "\n"
      ]
    },
    {
      "cell_type": "code",
      "execution_count": null,
      "metadata": {
        "id": "7D4Gkfdz1v5H"
      },
      "outputs": [],
      "source": [
        "embedding_dim = 16\n",
        "\n",
        "model = tf.keras.Sequential([\n",
        "  layers.Embedding(max_features, embedding_dim),\n",
        "  layers.Dropout(0.2),\n",
        "  layers.GlobalAveragePooling1D(),\n",
        "  layers.Dropout(0.2),\n",
        "  layers.Dense(1, activation='sigmoid')])"
      ]
    },
    {
      "cell_type": "markdown",
      "metadata": {
        "id": "DYQ6-paUAmVG"
      },
      "source": [
        "# Training"
      ]
    },
    {
      "cell_type": "markdown",
      "metadata": {
        "id": "8-elpqSS8rJ8"
      },
      "source": [
        "To train the model, the model requires a loss function, which needs to be minimized. In out case, we used the binary-cross entropy loss, which has the following formula, as specified in the lecture slides [8]:\n",
        "\n",
        "$$\n",
        "BCE = - \\frac{1}{N} \\sum [yᵢ * log(ŷᵢ) + (1 - yᵢ) * log(1 - ŷᵢ)]\n",
        "$$\n",
        "\n",
        "where:\n",
        "- N is the number of samples,\n",
        "- yᵢ is the true label (0 or 1),\n",
        "- ŷᵢ is the predicted probability (between 0 and 1).\n",
        "\n",
        "We also used an ADAM optimizer, so that the learning rate would be adjusted during training.\n",
        "\n",
        "Three metrics were also added: Binary accuracy, Precision, and Recall. The last two were not present in the TensorFlow tutorial. We decided to add them to ensure a robust evaluation of our model, with more than one metric. F1 was also computed manually, using the values for precision and recall.\n"
      ]
    },
    {
      "cell_type": "code",
      "execution_count": null,
      "metadata": {
        "id": "oLgdzZmz8rXf"
      },
      "outputs": [],
      "source": [
        "model.compile(loss = losses.BinaryCrossentropy(),\n",
        "              optimizer='adam',\n",
        "              metrics=[tf.metrics.BinaryAccuracy(threshold=0.5),\n",
        "                       tf.keras.metrics.Precision(),\n",
        "                       tf.keras.metrics.Recall()])"
      ]
    },
    {
      "cell_type": "markdown",
      "metadata": {
        "id": "ezjOhEwRUdOG"
      },
      "source": [
        "Having been provided with the optimizer and loss function, the model can be trained using its *fit* method, where we specify the training and validation datasets, as well as the number of training epochs as parameters."
      ]
    },
    {
      "cell_type": "markdown",
      "metadata": {
        "id": "ec1CQeyR-ZAD"
      },
      "source": [
        " In order to prevent overfitting, the training should be stopped as soon as the validation loss does not decrease anymore or starts increasing [9].\n",
        "\n",
        "We start with 10 training epochs.\n",
        "\n"
      ]
    },
    {
      "cell_type": "code",
      "execution_count": null,
      "metadata": {
        "colab": {
          "base_uri": "https://localhost:8080/"
        },
        "id": "gaSKXLt-U6Bl",
        "outputId": "3bd12b41-b2fd-4664-cbfb-382fd9ce9d67"
      },
      "outputs": [
        {
          "name": "stdout",
          "output_type": "stream",
          "text": [
            "Epoch 1/10\n",
            "\u001b[1m696/696\u001b[0m \u001b[32m━━━━━━━━━━━━━━━━━━━━\u001b[0m\u001b[37m\u001b[0m \u001b[1m24s\u001b[0m 32ms/step - binary_accuracy: 0.7350 - loss: 0.5552 - precision_2: 0.7021 - recall_2: 0.8646 - val_binary_accuracy: 0.9340 - val_loss: 0.2637 - val_precision_2: 0.9110 - val_recall_2: 0.9693\n",
            "Epoch 2/10\n",
            "\u001b[1m696/696\u001b[0m \u001b[32m━━━━━━━━━━━━━━━━━━━━\u001b[0m\u001b[37m\u001b[0m \u001b[1m11s\u001b[0m 15ms/step - binary_accuracy: 0.9294 - loss: 0.2350 - precision_2: 0.8963 - recall_2: 0.9794 - val_binary_accuracy: 0.9582 - val_loss: 0.1622 - val_precision_2: 0.9454 - val_recall_2: 0.9770\n",
            "Epoch 3/10\n",
            "\u001b[1m696/696\u001b[0m \u001b[32m━━━━━━━━━━━━━━━━━━━━\u001b[0m\u001b[37m\u001b[0m \u001b[1m20s\u001b[0m 15ms/step - binary_accuracy: 0.9539 - loss: 0.1547 - precision_2: 0.9338 - recall_2: 0.9822 - val_binary_accuracy: 0.9660 - val_loss: 0.1243 - val_precision_2: 0.9564 - val_recall_2: 0.9800\n",
            "Epoch 4/10\n",
            "\u001b[1m696/696\u001b[0m \u001b[32m━━━━━━━━━━━━━━━━━━━━\u001b[0m\u001b[37m\u001b[0m \u001b[1m20s\u001b[0m 15ms/step - binary_accuracy: 0.9641 - loss: 0.1207 - precision_2: 0.9491 - recall_2: 0.9846 - val_binary_accuracy: 0.9714 - val_loss: 0.1033 - val_precision_2: 0.9644 - val_recall_2: 0.9818\n",
            "Epoch 5/10\n",
            "\u001b[1m696/696\u001b[0m \u001b[32m━━━━━━━━━━━━━━━━━━━━\u001b[0m\u001b[37m\u001b[0m \u001b[1m10s\u001b[0m 14ms/step - binary_accuracy: 0.9704 - loss: 0.1005 - precision_2: 0.9583 - recall_2: 0.9866 - val_binary_accuracy: 0.9739 - val_loss: 0.0905 - val_precision_2: 0.9684 - val_recall_2: 0.9825\n",
            "Epoch 6/10\n",
            "\u001b[1m696/696\u001b[0m \u001b[32m━━━━━━━━━━━━━━━━━━━━\u001b[0m\u001b[37m\u001b[0m \u001b[1m9s\u001b[0m 12ms/step - binary_accuracy: 0.9742 - loss: 0.0865 - precision_2: 0.9636 - recall_2: 0.9884 - val_binary_accuracy: 0.9783 - val_loss: 0.0823 - val_precision_2: 0.9756 - val_recall_2: 0.9834\n",
            "Epoch 7/10\n",
            "\u001b[1m696/696\u001b[0m \u001b[32m━━━━━━━━━━━━━━━━━━━━\u001b[0m\u001b[37m\u001b[0m \u001b[1m15s\u001b[0m 19ms/step - binary_accuracy: 0.9773 - loss: 0.0766 - precision_2: 0.9685 - recall_2: 0.9890 - val_binary_accuracy: 0.9797 - val_loss: 0.0755 - val_precision_2: 0.9767 - val_recall_2: 0.9850\n",
            "Epoch 8/10\n",
            "\u001b[1m696/696\u001b[0m \u001b[32m━━━━━━━━━━━━━━━━━━━━\u001b[0m\u001b[37m\u001b[0m \u001b[1m10s\u001b[0m 15ms/step - binary_accuracy: 0.9795 - loss: 0.0689 - precision_2: 0.9710 - recall_2: 0.9906 - val_binary_accuracy: 0.9811 - val_loss: 0.0708 - val_precision_2: 0.9787 - val_recall_2: 0.9854\n",
            "Epoch 9/10\n",
            "\u001b[1m696/696\u001b[0m \u001b[32m━━━━━━━━━━━━━━━━━━━━\u001b[0m\u001b[37m\u001b[0m \u001b[1m9s\u001b[0m 12ms/step - binary_accuracy: 0.9816 - loss: 0.0623 - precision_2: 0.9746 - recall_2: 0.9910 - val_binary_accuracy: 0.9823 - val_loss: 0.0667 - val_precision_2: 0.9797 - val_recall_2: 0.9868\n",
            "Epoch 10/10\n",
            "\u001b[1m696/696\u001b[0m \u001b[32m━━━━━━━━━━━━━━━━━━━━\u001b[0m\u001b[37m\u001b[0m \u001b[1m10s\u001b[0m 15ms/step - binary_accuracy: 0.9828 - loss: 0.0570 - precision_2: 0.9762 - recall_2: 0.9914 - val_binary_accuracy: 0.9833 - val_loss: 0.0637 - val_precision_2: 0.9814 - val_recall_2: 0.9870\n"
          ]
        }
      ],
      "source": [
        "epochs = 10\n",
        "model_history = model.fit(\n",
        "    train_ds,\n",
        "    validation_data = val_ds,\n",
        "    epochs = epochs\n",
        ")"
      ]
    },
    {
      "cell_type": "markdown",
      "metadata": {
        "id": "2o8EtsJTdt2h"
      },
      "source": [
        "We can observe that the binary accuracy for the training dataset gradually increased from epoch to epoch, while the loss gradually decreased from epoch to epoch, indicating that the model is not underfitting the data. The same trend can be observed for the validation dataset."
      ]
    },
    {
      "cell_type": "markdown",
      "metadata": {
        "id": "2TzT4wot-hld"
      },
      "source": [
        "Afterwards, we train it for 10 more epochs to observe how the validation loss evolves."
      ]
    },
    {
      "cell_type": "code",
      "execution_count": null,
      "metadata": {
        "colab": {
          "base_uri": "https://localhost:8080/",
          "height": 35
        },
        "id": "oUfQQbp3-lYZ",
        "outputId": "b85ee538-c7c5-4e08-d807-186477b97c35"
      },
      "outputs": [
        {
          "data": {
            "application/vnd.google.colaboratory.intrinsic+json": {
              "type": "string"
            },
            "text/plain": [
              "'\\nepochs = 10\\nmodel_history_2 = model.fit(\\n    train_ds,\\n    validation_data=val_ds,\\n    epochs=epochs)\\n'"
            ]
          },
          "execution_count": 1,
          "metadata": {},
          "output_type": "execute_result"
        }
      ],
      "source": [
        "# Uncomment this code to train the model for 10 more epochs. Below are the results obtained for the training and validation binary accuracy and loss.\n",
        "\"\"\"\n",
        "epochs = 10\n",
        "model_history_2 = model.fit(\n",
        "    train_ds,\n",
        "    validation_data=val_ds,\n",
        "    epochs=epochs)\n",
        "\"\"\""
      ]
    },
    {
      "cell_type": "markdown",
      "metadata": {
        "id": "jrsGrdY5IdVL"
      },
      "source": [
        "Epoch 1/10\n",
        "696/696 ━━━━━━━━━━━━━━━━━━━━ 10s 15ms/step - binary_accuracy: 0.9846 - loss: 0.0523 - precision: 0.9779 - recall: 0.9931 - val_binary_accuracy: 0.9814 - val_loss: 0.0620 - val_precision: 0.9738 - val_recall: 0.9913\n",
        "\n",
        "Epoch 2/10\n",
        "696/696 ━━━━━━━━━━━━━━━━━━━━ 8s 12ms/step - binary_accuracy: 0.9852 - loss: 0.0480 - precision: 0.9784 - recall: 0.9938 - val_binary_accuracy: 0.9811 - val_loss: 0.0608 - val_precision: 0.9732 - val_recall: 0.9913\n",
        "\n",
        "Epoch 3/10\n",
        "696/696 ━━━━━━━━━━━━━━━━━━━━ 10s 14ms/step - binary_accuracy: 0.9856 - loss: 0.0453 - precision: 0.9794 - recall: 0.9935 - val_binary_accuracy: 0.9821 - val_loss: 0.0597 - val_precision: 0.9747 - val_recall: 0.9918\n",
        "\n",
        "Epoch 4/10\n",
        "696/696 ━━━━━━━━━━━━━━━━━━━━ 10s 15ms/step - binary_accuracy: 0.9867 - loss: 0.0426 - precision: 0.9809 - recall: 0.9941 - val_binary_accuracy: 0.9824 - val_loss: 0.0595 - val_precision: 0.9745 - val_recall: 0.9925\n",
        "\n",
        "Epoch 5/10\n",
        "696/696 ━━━━━━━━━━━━━━━━━━━━ 8s 11ms/step - binary_accuracy: 0.9871 - loss: 0.0401 - precision: 0.9815 - recall: 0.9943 - val_binary_accuracy: 0.9832 - val_loss: 0.0577 - val_precision: 0.9769 - val_recall: 0.9916\n",
        "\n",
        "Epoch 6/10\n",
        "696/696 ━━━━━━━━━━━━━━━━━━━━ 12s 14ms/step - binary_accuracy: 0.9880 - loss: 0.0376 - precision: 0.9827 - recall: 0.9947 - val_binary_accuracy: 0.9839 - val_loss: 0.0566 - val_precision: 0.9789 - val_recall: 0.9909\n",
        "\n",
        "Epoch 7/10\n",
        "696/696 ━━━━━━━━━━━━━━━━━━━━ 10s 15ms/step - binary_accuracy: 0.9886 - loss: 0.0355 - precision: 0.9837 - recall: 0.9948 - val_binary_accuracy: 0.9832 - val_loss: 0.0580 - val_precision: 0.9762 - val_recall: 0.9923\n",
        "\n",
        "Epoch 8/10\n",
        "696/696 ━━━━━━━━━━━━━━━━━━━━ 8s 12ms/step - binary_accuracy: 0.9891 - loss: 0.0340 - precision: 0.9846 - recall: 0.9949 - val_binary_accuracy: 0.9838 - val_loss: 0.0562 - val_precision: 0.9784 - val_recall: 0.9911\n",
        "\n",
        "Epoch 9/10\n",
        "696/696 ━━━━━━━━━━━━━━━━━━━━ 10s 15ms/step - binary_accuracy: 0.9891 - loss: 0.0326 - precision: 0.9848 - recall: 0.9947 - val_binary_accuracy: 0.9837 - val_loss: 0.0565 - val_precision: 0.9780 - val_recall: 0.9913\n",
        "\n",
        "Epoch 10/10\n",
        "696/696 ━━━━━━━━━━━━━━━━━━━━ 11s 15ms/step - binary_accuracy: 0.9899 - loss: 0.0308 - precision: 0.9855 - recall: 0.9955 - val_binary_accuracy: 0.9853 - val_loss: 0.0560 - val_precision: 0.9806 - val_recall: 0.9916"
      ]
    },
    {
      "cell_type": "markdown",
      "metadata": {
        "id": "xEMt0wMe-qLo"
      },
      "source": [
        "As can be observed, from the 15th epoch onward, the validation loss does not significantly decrease anymore and starts oscillating around the same range: 0.055 - 0.057. Thus, 10 epochs can be considered enough to train the neural network.\n"
      ]
    },
    {
      "cell_type": "markdown",
      "metadata": {
        "id": "EGEmhtUUAb2C"
      },
      "source": [
        "# Overfitting check"
      ]
    },
    {
      "cell_type": "markdown",
      "metadata": {
        "id": "yNSXU2l4VZnc"
      },
      "source": [
        "The model has been trained on the training and validation datasets using the fit method for an appropriate number of epochs, and is ready to be evaluated on the test dataset. Its proper implementation can be verified through a comparison between the values for binary accuracy and loss obtained on the training dataset and the same values obtained on the test dataset. These values are the first two values returned by the *evaluate* method of the model."
      ]
    },
    {
      "cell_type": "code",
      "execution_count": null,
      "metadata": {
        "colab": {
          "base_uri": "https://localhost:8080/"
        },
        "id": "wIgFjPiwVVKo",
        "outputId": "ec7001f0-0d10-416c-e5fa-a16f22f46b69"
      },
      "outputs": [
        {
          "name": "stdout",
          "output_type": "stream",
          "text": [
            "\u001b[1m696/696\u001b[0m \u001b[32m━━━━━━━━━━━━━━━━━━━━\u001b[0m\u001b[37m\u001b[0m \u001b[1m7s\u001b[0m 10ms/step - binary_accuracy: 0.9924 - loss: 0.0274 - precision_2: 0.9904 - recall_2: 0.9953\n",
            "\u001b[1m87/87\u001b[0m \u001b[32m━━━━━━━━━━━━━━━━━━━━\u001b[0m\u001b[37m\u001b[0m \u001b[1m0s\u001b[0m 3ms/step - binary_accuracy: 0.9854 - loss: 0.0578 - precision_2: 0.9876 - recall_2: 0.9851\n",
            "Loss_test_dataset:  0.04832402989268303\n",
            "Accuracy_test_dataset:  0.9877771139144897\n"
          ]
        }
      ],
      "source": [
        "loss_training_dataset, accuracy_training_dataset = model.evaluate(train_ds)[0:2]\n",
        "loss_test_dataset, accuracy_test_dataset = model.evaluate(test_ds)[0:2]\n",
        "\n",
        "print(\"Loss_test_dataset: \", loss_test_dataset)\n",
        "print(\"Accuracy_test_dataset: \", accuracy_test_dataset)"
      ]
    },
    {
      "cell_type": "markdown",
      "metadata": {
        "id": "WS18cucrz7UA"
      },
      "source": [
        "If our model was overfitting, the absolute difference between the binary loss on the training dataset and the one on the test dataset would be quite high [8]. That is not the case, however, as can be observed from the very low value of the difference:\n",
        "\n"
      ]
    },
    {
      "cell_type": "code",
      "execution_count": null,
      "metadata": {
        "colab": {
          "base_uri": "https://localhost:8080/"
        },
        "id": "1MKLa1TN6YKJ",
        "outputId": "6c9406e0-1cfd-4988-e234-8203252c48e1"
      },
      "outputs": [
        {
          "name": "stdout",
          "output_type": "stream",
          "text": [
            "Absolute loss gap:  0.021920818835496902\n"
          ]
        }
      ],
      "source": [
        "absolute_loss_gap = abs(loss_training_dataset - loss_test_dataset)\n",
        "print(\"Absolute loss gap: \", absolute_loss_gap)"
      ]
    },
    {
      "cell_type": "markdown",
      "metadata": {
        "id": "1G7natxJAP5R"
      },
      "source": [
        "# Evaluation metrics"
      ]
    },
    {
      "cell_type": "markdown",
      "metadata": {
        "id": "h1unyfyc_yhy"
      },
      "source": [
        "Given that the dataset is not imbalanced, the binary accuracy can be considered a good metric for this model [10]. Nonetheless, its value can still be compared to other classification metrics, such as precision, recall, or F1. All the formulas were taken from the lecture slides [10].\n",
        "\n",
        "The formula for the binary accuracy is:\n",
        "\n",
        "$$\n",
        "\\text{Binary Accuracy} = \\frac{TP + TN}{TP + TN + FP + FN}\n",
        "$$\n",
        "\n",
        "where:\n",
        "- **TP** = True Positives (correctly predicted as spam)\n",
        "- **TN** = True Negatives (correctly predicted as non-spam)\n",
        "- **FP** = False Positives (incorrectly predicted as spam)\n",
        "- **FN** = False Negatives (incorrectly predicted as non-spam)\n",
        "\n",
        "The formula for precision is:\n",
        "\n",
        "$$\n",
        "\\text{Precision} = \\frac{TP}{TP + FP}\n",
        "$$\n",
        "\n",
        "\\\\\n",
        "The formula for recall is:\n",
        "\n",
        "$$\n",
        "\\text{Recall} = \\frac{TP}{TP + FN}\n",
        "$$\n",
        "\n",
        "\n",
        "The formula for the F1 score is:\n",
        "\n",
        "$$\n",
        "\\text{F1 Score} = 2 \\times \\frac{\\text{Precision} \\times \\text{Recall}}{\\text{Precision} + \\text{Recall}}\n",
        "$$\n"
      ]
    },
    {
      "cell_type": "code",
      "execution_count": null,
      "metadata": {
        "colab": {
          "base_uri": "https://localhost:8080/"
        },
        "id": "vpPj-ZQAAE-J",
        "outputId": "9cfd3ea5-0485-4b5b-abfa-5bbde6464d88"
      },
      "outputs": [
        {
          "name": "stdout",
          "output_type": "stream",
          "text": [
            "\u001b[1m87/87\u001b[0m \u001b[32m━━━━━━━━━━━━━━━━━━━━\u001b[0m\u001b[37m\u001b[0m \u001b[1m0s\u001b[0m 5ms/step - binary_accuracy: 0.9854 - loss: 0.0578 - precision_2: 0.9876 - recall_2: 0.9851\n",
            "Accuracy:  0.9877771139144897\n",
            "Precision:  0.9881629943847656\n",
            "Recall:  0.9886130690574646\n",
            "F1_score:  0.9883879804843527\n"
          ]
        }
      ],
      "source": [
        "accuracy_test_dataset, precision_test_dataset, recall_test_dataset = model.evaluate(test_ds)[1:] # the first element is the loss and can be skipped\n",
        "# compute F1 manually using the formula\n",
        "F1_test_dataset = 2 * (precision_test_dataset * recall_test_dataset) / (precision_test_dataset + recall_test_dataset)\n",
        "\n",
        "print(\"Accuracy: \", accuracy_test_dataset)\n",
        "print(\"Precision: \", precision_test_dataset)\n",
        "print(\"Recall: \", recall_test_dataset)\n",
        "print(\"F1_score: \", F1_test_dataset)"
      ]
    },
    {
      "cell_type": "markdown",
      "metadata": {
        "id": "lHU-XswTATCi"
      },
      "source": [
        "# Graphs"
      ]
    },
    {
      "cell_type": "markdown",
      "metadata": {
        "id": "PqAnOy7wn4UU"
      },
      "source": [
        "The results from the training can also be visualized by plotting the training and validation loss and accuracy over the 10 training epochs."
      ]
    },
    {
      "cell_type": "code",
      "execution_count": null,
      "metadata": {
        "colab": {
          "base_uri": "https://localhost:8080/",
          "height": 472
        },
        "id": "MFSyxGfwsear",
        "outputId": "f3d31f78-0eec-41b3-f983-87aea11bf164"
      },
      "outputs": [
        {
          "data": {
            "image/png": "[encoded data removed]",
            "text/plain": [
              "<Figure size 640x480 with 1 Axes>"
            ]
          },
          "metadata": {},
          "output_type": "display_data"
        }
      ],
      "source": [
        "history_dict = model_history.history\n",
        "\n",
        "acc = history_dict['binary_accuracy']\n",
        "val_acc = history_dict['val_binary_accuracy']\n",
        "loss = history_dict['loss']\n",
        "val_loss = history_dict['val_loss']\n",
        "epochs = range(1, len(acc) + 1)\n",
        "\n",
        "# \"bo\" is for \"blue dot\"\n",
        "plt.plot(epochs, loss, 'bo', label='Training loss')\n",
        "# b is for \"solid blue line\"\n",
        "plt.plot(epochs, val_loss, 'b', label='Validation loss')\n",
        "plt.title('Training and validation loss')\n",
        "plt.xlabel('Epochs')\n",
        "plt.ylabel('Loss')\n",
        "plt.legend()\n",
        "\n",
        "plt.show()"
      ]
    },
    {
      "cell_type": "code",
      "execution_count": null,
      "metadata": {
        "colab": {
          "base_uri": "https://localhost:8080/",
          "height": 472
        },
        "id": "NUrYAMt3s1F5",
        "outputId": "5766281c-3e65-4462-b938-457903b45967"
      },
      "outputs": [
        {
          "data": {
            "image/png": "[encoded data removed]",
            "text/plain": [
              "<Figure size 640x480 with 1 Axes>"
            ]
          },
          "metadata": {},
          "output_type": "display_data"
        }
      ],
      "source": [
        "plt.plot(epochs, acc, 'bo', label='Training acc')\n",
        "plt.plot(epochs, val_acc, 'b', label='Validation acc')\n",
        "plt.title('Training and validation accuracy')\n",
        "plt.xlabel('Epochs')\n",
        "plt.ylabel('Accuracy')\n",
        "plt.legend(loc='lower right')\n",
        "\n",
        "plt.show()"
      ]
    },
    {
      "cell_type": "markdown",
      "metadata": {
        "id": "8yC-Emlh2Ob1"
      },
      "source": [
        "From the graphs too, it can be observed that the training and validation accuracy and losses evolve in the same manner across the epoch. The validation loss also does not increase. These are an indicator that overfitting does not occur."
      ]
    },
    {
      "cell_type": "markdown",
      "metadata": {
        "id": "vMr7sq72EhUs"
      },
      "source": [
        "# Conclusions\n",
        "- Both the training and validation accuracy increase and the loss decrease over the 10 training epochs, indicating that the model is trained properly and does not overfit during training and the model works as intended.\n",
        "- The training accuracy increases significantly from the first epoch to the second. This could be explained by the high number of training samples (N = 66758 samples), which, together with the complex vectorization methods and neural network, ensure a quite fast learning process.\n",
        "- The accuracy on the testing dataset has a high value, very similar to the one obtained on the training dataset, which indicates that the model successfully learned the binary text classification task of labeling emails as spam or non-spam.\n",
        "- The fact that the model was successfully trained both on the movie reveiw classification in the TensorFlow tutorial [1] and spam detection tasks indicates that the model is generalizable to multiple tasks. Furthermore, it indicates that the text pre-processing techniques can be universally used no matter whehter the task is to label movie reviews positive or negative or to classify emails as spam or non-spam."
      ]
    },
    {
      "cell_type": "markdown",
      "metadata": {
        "id": "kGWBCkJnF7PG"
      },
      "source": [
        "# References\n",
        "\n",
        "- [1] Basic Text Classification | TensorFlow https://www.tensorflow.org/tutorials/keras/text_classification\n",
        "- [2] train_test_split. (n.d.). Scikit-learn. https://scikit-learn.org/stable/modules/generated/sklearn.model_selection.train_test_split.html\n",
        "- [3] tf.keras.preprocessing.text_dataset_from_directory  |  TensorFlow v2.16.1. (2025). TensorFlow. https://www.tensorflow.org/api_docs/python/tf/keras/preprocessing/text_dataset_from_directory\n",
        "- [4] tf.keras.layers.TextVectorization | TensorFlow Core v2.7.0. (n.d.). TensorFlow. https://www.tensorflow.org/api_docs/python/tf/keras/layers/TextVectorization\n",
        "- [5] tf.expand_dims  |  TensorFlow v2.16.1. (2025). TensorFlow. https://www.tensorflow.org/api_docs/python/tf/expand_dims\n",
        "- [6] tf.keras.Sequential | TensorFlow Core v2.3.0. (n.d.). TensorFlow. https://www.tensorflow.org/api_docs/python/tf/keras/Sequential\n",
        "- [7] tf.keras.layers | TensorFlow v2.16.1 (n.d.). TensorFlow. https://www.tensorflow.org/api_docs/python/tf/keras/layers\n",
        "- [8] Lecture 6 slides. Introduction to ML for AI. University of Groningen (2024-2025)\n",
        "- [9] Lecture 6 slides. Introduction to ML for AI. University of Groningen (2024-2025)\n",
        "- [10] Lecture 5 slides. Introduction to ML for AI. University of Groningen (2024-2025)\n",
        "\n"
      ]
    }
  ],
  "metadata": {
    "colab": {
      "collapsed_sections": [
        "2ux2EoNKAy1g"
      ],
      "provenance": []
    },
    "kernelspec": {
      "display_name": "Python 3",
      "name": "python3"
    },
    "language_info": {
      "name": "python"
    }
  },
  "nbformat": 4,
  "nbformat_minor": 0
}
